{
  "nbformat": 4,
  "nbformat_minor": 0,
  "metadata": {
    "colab": {
      "name": "movie recomandation system.ipynb",
      "provenance": [],
      "private_outputs": true,
      "authorship_tag": "ABX9TyMk/XEDvZ6HIKGBo5ROyLuD",
      "include_colab_link": true
    },
    "kernelspec": {
      "name": "python3",
      "display_name": "Python 3"
    }
  },
  "cells": [
    {
      "cell_type": "markdown",
      "metadata": {
        "id": "view-in-github",
        "colab_type": "text"
      },
      "source": [
        "<a href=\"https://colab.research.google.com/github/Badaralam/Movie-Recomandationsystem-/blob/master/movie_recomandation_system.ipynb\" target=\"_parent\"><img src=\"https://colab.research.google.com/assets/colab-badge.svg\" alt=\"Open In Colab\"/></a>"
      ]
    },
    {
      "cell_type": "code",
      "metadata": {
        "id": "iUrXX8J83daj",
        "colab_type": "code",
        "colab": {}
      },
      "source": [
        "import numpy as np\n",
        "from lightfm.datasets import fetch_movielens\n",
        "from lightfm import LightFM"
      ],
      "execution_count": null,
      "outputs": []
    },
    {
      "cell_type": "code",
      "metadata": {
        "id": "7GGa4zi329Av",
        "colab_type": "code",
        "colab": {}
      },
      "source": [
        "pip install lightfm"
      ],
      "execution_count": null,
      "outputs": []
    },
    {
      "cell_type": "code",
      "metadata": {
        "id": "Nit1Bbux9OTG",
        "colab_type": "code",
        "colab": {}
      },
      "source": [
        "data=fetch_movielens(min_rating=0.4)"
      ],
      "execution_count": null,
      "outputs": []
    },
    {
      "cell_type": "code",
      "metadata": {
        "id": "D8_TFKYy9uOn",
        "colab_type": "code",
        "colab": {}
      },
      "source": [
        "print(repr(data['train']))\n",
        "print(repr(data['test']))"
      ],
      "execution_count": null,
      "outputs": []
    },
    {
      "cell_type": "code",
      "metadata": {
        "id": "qadGPGCz9ZcA",
        "colab_type": "code",
        "colab": {}
      },
      "source": [
        "model=LightFM(loss='warp')"
      ],
      "execution_count": null,
      "outputs": []
    },
    {
      "cell_type": "code",
      "metadata": {
        "id": "Up0T7QH4_NDF",
        "colab_type": "code",
        "colab": {}
      },
      "source": [
        "model.fit(data['train'],epochs=30,num_threads=2)\n",
        "print(model)"
      ],
      "execution_count": null,
      "outputs": []
    },
    {
      "cell_type": "code",
      "metadata": {
        "id": "M5OVVOsZ_gkz",
        "colab_type": "code",
        "colab": {}
      },
      "source": [
        "def smaple_recommedation(model,data,user_ids):\n",
        "    n_users,n_items=data['train'].shape\n",
        "    for user_id in user_ids:\n",
        "        know_positive=data['item_labels'][data['train'].tocsr()[user_id].indices]\n",
        "        print(know_positive)\n",
        "        sorces=model.predict(user_id, np.arange(n_items))\n",
        "        top_items=data['item_labels'][np.argsort(-sorces)]\n",
        "        print(\"User id%\",user_id)\n",
        "        print(\"know positive symbol:\")\n",
        "        for x in know_positive[:3]:\n",
        "            print(\"Positive Rate1 %s\"%x)\n",
        "        print('Recomandations')\n",
        "        for r in top_items[:3]:\n",
        "            print('recomandation:%s'%r)"
      ],
      "execution_count": null,
      "outputs": []
    },
    {
      "cell_type": "code",
      "metadata": {
        "id": "rM5uaBDMEKfF",
        "colab_type": "code",
        "colab": {}
      },
      "source": [
        "smaple_recommedation(model,data,[3,25,450])"
      ],
      "execution_count": null,
      "outputs": []
    },
    {
      "cell_type": "code",
      "metadata": {
        "id": "ADM1GMs7E1o8",
        "colab_type": "code",
        "colab": {}
      },
      "source": [
        "pip install gym-torcs"
      ],
      "execution_count": null,
      "outputs": []
    }
  ]
}